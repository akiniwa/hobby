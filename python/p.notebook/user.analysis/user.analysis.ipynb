{
 "cells": [
  {
   "cell_type": "code",
   "execution_count": 1,
   "metadata": {
    "collapsed": false
   },
   "outputs": [],
   "source": [
    "!mysql -u root sqoop -e \"DROP TABLE IF EXISTS tbl_order;\""
   ]
  },
  {
   "cell_type": "code",
   "execution_count": 2,
   "metadata": {
    "collapsed": true
   },
   "outputs": [],
   "source": [
    "!mysql -u root sqoop -e \"CREATE TABLE tbl_order (order_id int(11) NOT NULL AUTO_INCREMENT, order_dt varchar(32) NOT NULL, user_id int(11) NOT NULL, PRIMARY KEY (order_id));\""
   ]
  },
  {
   "cell_type": "code",
   "execution_count": 3,
   "metadata": {
    "collapsed": true
   },
   "outputs": [],
   "source": [
    "import datetime\n",
    "import random\n",
    "\n",
    "start_dt = datetime.date(2015, 6, 1)\n",
    "# print start_dt + datetime.timedelta(days=111)\n",
    "\n",
    "with open('data.csv', 'wt') as dt:\n",
    "    for order in range(10000, 20000):\n",
    "        order_id = str(order)\n",
    "        order_dt = start_dt + datetime.timedelta(days=random.randint(1, 111))\n",
    "        user_id = random.randint(1000, 9000)\n",
    "        dt.write(\"{},{},{}\\n\".format(order_id, order_dt, user_id))"
   ]
  },
  {
   "cell_type": "code",
   "execution_count": 4,
   "metadata": {
    "collapsed": false
   },
   "outputs": [
    {
     "name": "stdout",
     "output_type": "stream",
     "text": [
      "/Users/hqlgree2/Documents/github/hobby/python/p.notebook/user.analysis\r\n"
     ]
    }
   ],
   "source": [
    "!pwd"
   ]
  },
  {
   "cell_type": "code",
   "execution_count": 5,
   "metadata": {
    "collapsed": false
   },
   "outputs": [
    {
     "name": "stdout",
     "output_type": "stream",
     "text": [
      "data.csv            user.analysis.ipynb\r\n"
     ]
    }
   ],
   "source": [
    "!ls"
   ]
  },
  {
   "cell_type": "code",
   "execution_count": 6,
   "metadata": {
    "collapsed": false
   },
   "outputs": [],
   "source": [
    "!mysql -u root sqoop -e \"load data infile '/Users/hqlgree2/Documents/github/hobby/python/p.notebook/user.analysis/data.csv' into table tbl_order fields terminated by ',' lines terminated by '\\n';\""
   ]
  },
  {
   "cell_type": "code",
   "execution_count": 7,
   "metadata": {
    "collapsed": false,
    "scrolled": true
   },
   "outputs": [
    {
     "name": "stdout",
     "output_type": "stream",
     "text": [
      "+-------------+--------------+\r\n",
      "| register_dt | register_num |\r\n",
      "+-------------+--------------+\r\n",
      "| 2015-06-02  |           72 |\r\n",
      "| 2015-06-03  |           78 |\r\n",
      "| 2015-06-04  |           90 |\r\n",
      "| 2015-06-05  |           73 |\r\n",
      "| 2015-06-06  |          105 |\r\n",
      "| 2015-06-07  |           93 |\r\n",
      "| 2015-06-08  |           77 |\r\n",
      "| 2015-06-09  |           75 |\r\n",
      "| 2015-06-10  |           84 |\r\n",
      "| 2015-06-11  |           69 |\r\n",
      "| 2015-06-12  |           85 |\r\n",
      "| 2015-06-13  |           85 |\r\n",
      "| 2015-06-14  |           75 |\r\n",
      "| 2015-06-15  |           89 |\r\n",
      "| 2015-06-16  |           72 |\r\n",
      "| 2015-06-17  |           91 |\r\n",
      "| 2015-06-18  |           86 |\r\n",
      "| 2015-06-19  |           64 |\r\n",
      "| 2015-06-20  |           76 |\r\n",
      "| 2015-06-21  |           64 |\r\n",
      "| 2015-06-22  |           68 |\r\n",
      "| 2015-06-23  |           62 |\r\n",
      "| 2015-06-24  |           79 |\r\n",
      "| 2015-06-25  |           75 |\r\n",
      "| 2015-06-26  |           81 |\r\n",
      "| 2015-06-27  |           68 |\r\n",
      "| 2015-06-28  |           78 |\r\n",
      "| 2015-06-29  |           76 |\r\n",
      "| 2015-06-30  |           62 |\r\n",
      "| 2015-07-01  |           69 |\r\n",
      "| 2015-07-02  |           65 |\r\n",
      "| 2015-07-03  |           66 |\r\n",
      "| 2015-07-04  |           60 |\r\n",
      "| 2015-07-05  |           58 |\r\n",
      "| 2015-07-06  |           71 |\r\n",
      "| 2015-07-07  |           54 |\r\n",
      "| 2015-07-08  |           60 |\r\n",
      "| 2015-07-09  |           63 |\r\n",
      "| 2015-07-10  |           55 |\r\n",
      "| 2015-07-11  |           52 |\r\n",
      "| 2015-07-12  |           58 |\r\n",
      "| 2015-07-13  |           57 |\r\n",
      "| 2015-07-14  |           57 |\r\n",
      "| 2015-07-15  |           55 |\r\n",
      "| 2015-07-16  |           50 |\r\n",
      "| 2015-07-17  |           56 |\r\n",
      "| 2015-07-18  |           39 |\r\n",
      "| 2015-07-19  |           71 |\r\n",
      "| 2015-07-20  |           49 |\r\n",
      "| 2015-07-21  |           51 |\r\n",
      "| 2015-07-22  |           46 |\r\n",
      "| 2015-07-23  |           58 |\r\n",
      "| 2015-07-24  |           47 |\r\n",
      "| 2015-07-25  |           54 |\r\n",
      "| 2015-07-26  |           38 |\r\n",
      "| 2015-07-27  |           43 |\r\n",
      "| 2015-07-28  |           43 |\r\n",
      "| 2015-07-29  |           44 |\r\n",
      "| 2015-07-30  |           50 |\r\n",
      "| 2015-07-31  |           39 |\r\n",
      "| 2015-08-01  |           45 |\r\n",
      "| 2015-08-02  |           45 |\r\n",
      "| 2015-08-03  |           42 |\r\n",
      "| 2015-08-04  |           46 |\r\n",
      "| 2015-08-05  |           45 |\r\n",
      "| 2015-08-06  |           39 |\r\n",
      "| 2015-08-07  |           38 |\r\n",
      "| 2015-08-08  |           53 |\r\n",
      "| 2015-08-09  |           34 |\r\n",
      "| 2015-08-10  |           39 |\r\n",
      "| 2015-08-11  |           41 |\r\n",
      "| 2015-08-12  |           46 |\r\n",
      "| 2015-08-13  |           46 |\r\n",
      "| 2015-08-14  |           30 |\r\n",
      "| 2015-08-15  |           29 |\r\n",
      "| 2015-08-16  |           36 |\r\n",
      "| 2015-08-17  |           48 |\r\n",
      "| 2015-08-18  |           39 |\r\n",
      "| 2015-08-19  |           38 |\r\n",
      "| 2015-08-20  |           46 |\r\n",
      "| 2015-08-21  |           28 |\r\n",
      "| 2015-08-22  |           35 |\r\n",
      "| 2015-08-23  |           48 |\r\n",
      "| 2015-08-24  |           32 |\r\n",
      "| 2015-08-25  |           30 |\r\n",
      "| 2015-08-26  |           39 |\r\n",
      "| 2015-08-27  |           29 |\r\n",
      "| 2015-08-28  |           42 |\r\n",
      "| 2015-08-29  |           41 |\r\n",
      "| 2015-08-30  |           32 |\r\n",
      "| 2015-08-31  |           27 |\r\n",
      "| 2015-09-01  |           34 |\r\n",
      "| 2015-09-02  |           46 |\r\n",
      "| 2015-09-03  |           33 |\r\n",
      "| 2015-09-04  |           26 |\r\n",
      "| 2015-09-05  |           25 |\r\n",
      "| 2015-09-06  |           33 |\r\n",
      "| 2015-09-07  |           26 |\r\n",
      "| 2015-09-08  |           28 |\r\n",
      "| 2015-09-09  |           32 |\r\n",
      "| 2015-09-10  |           34 |\r\n",
      "| 2015-09-11  |           33 |\r\n",
      "| 2015-09-12  |           27 |\r\n",
      "| 2015-09-13  |           21 |\r\n",
      "| 2015-09-14  |           23 |\r\n",
      "| 2015-09-15  |           27 |\r\n",
      "| 2015-09-16  |           31 |\r\n",
      "| 2015-09-17  |           30 |\r\n",
      "| 2015-09-18  |           21 |\r\n",
      "| 2015-09-19  |           28 |\r\n",
      "| 2015-09-20  |           23 |\r\n",
      "+-------------+--------------+\r\n"
     ]
    }
   ],
   "source": [
    "!mysql -u root sqoop -e \"select register_dt, count(*) as register_num from (select user_id, min(order_dt) as register_dt  from tbl_order group by user_id order by register_dt ) x group by register_dt;\""
   ]
  },
  {
   "cell_type": "code",
   "execution_count": 8,
   "metadata": {
    "collapsed": false
   },
   "outputs": [
    {
     "name": "stdout",
     "output_type": "stream",
     "text": [
      "+----------+\r\n",
      "| regi_sum |\r\n",
      "+----------+\r\n",
      "|     5719 |\r\n",
      "+----------+\r\n"
     ]
    }
   ],
   "source": [
    "!mysql -u root sqoop -e \"select sum(register_cnt) as regi_sum from (select register_dt, count(*) as register_cnt from (select user_id, min(order_dt) as register_dt  from tbl_order group by user_id order by register_dt) x group by register_dt) as y;\""
   ]
  },
  {
   "cell_type": "code",
   "execution_count": 9,
   "metadata": {
    "collapsed": false,
    "scrolled": true
   },
   "outputs": [
    {
     "name": "stdout",
     "output_type": "stream",
     "text": [
      "+----------+\r\n",
      "| user_cnt |\r\n",
      "+----------+\r\n",
      "|     5719 |\r\n",
      "+----------+\r\n"
     ]
    }
   ],
   "source": [
    "!mysql -u root sqoop -e \"select count(distinct(user_id)) as user_cnt from tbl_order;\""
   ]
  }
 ],
 "metadata": {
  "kernelspec": {
   "display_name": "Python 2",
   "language": "python",
   "name": "python2"
  },
  "language_info": {
   "codemirror_mode": {
    "name": "ipython",
    "version": 2
   },
   "file_extension": ".py",
   "mimetype": "text/x-python",
   "name": "python",
   "nbconvert_exporter": "python",
   "pygments_lexer": "ipython2",
   "version": "2.7.10"
  }
 },
 "nbformat": 4,
 "nbformat_minor": 0
}
